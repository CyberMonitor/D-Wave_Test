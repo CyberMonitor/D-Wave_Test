


<!doctype html>


    <html lang="en" ng-app="mainapp">


<head>
    <title>Qubist Home</title>
    <link rel="icon" href="https://cdn-assets.cloud.dwavesys.com/qubist_static/images/favicon.ico">

    <!-- table_jui styles -->
    <link rel="stylesheet" href="https://cdn-assets.cloud.dwavesys.com/qubist_static/css/table_jui.css" type="text/css" media="screen, projection">

    

    <!-- minified jquery -->
    <script type="text/javascript" src="https://cdn-assets.cloud.dwavesys.com/qubist_static/js/libs/jquery/jquery-2.1.3.min.js"> </script>
    <!-- minified jquery migrate - As of jquery 1.9 and up - various older methods of jquery have been removed. This jquery migrate brings support for those methods -->
    <script type="text/javascript" src="https://cdn-assets.cloud.dwavesys.com/qubist_static/js/libs/jquery/jquery-migrate.min.js"> </script>
    <!-- minified jquery ui -->
    <script type="text/javascript" src="https://cdn-assets.cloud.dwavesys.com/qubist_static/js/jquery-ui-1.8.22.custom.min.js"> </script>
    <!-- minified lodash -->
    <script type="text/javascript" src="https://cdn-assets.cloud.dwavesys.com/qubist_static/js/libs/lodash.compat.min.js"></script>

    <!-- minified bootstrap -->
    <link rel="stylesheet" href="https://cdn-assets.cloud.dwavesys.com/qubist_static/css/bootstrap/dist/css/bootstrap.min.css" type="text/css">
    <link rel="stylesheet" href="https://cdn-assets.cloud.dwavesys.com/qubist_static/css/bootstrap/dist/css/bootstrap-theme.min.css" type="text/css" media="screen, projection">
    <script type="text/javascript" src="https://cdn-assets.cloud.dwavesys.com/qubist_static/js/libs/bootstrap/dist/js/bootstrap.min.js"> </script>

    <!-- minified Angular-->
    <script type="text/javascript" src="https://cdn-assets.cloud.dwavesys.com/qubist_static/js/libs/angular/angular.min.js"> </script>
    <script type="text/javascript" src="https://cdn-assets.cloud.dwavesys.com/qubist_static/js/libs/bootstrap-ui/ui-bootstrap-tpls.min.js"> </script>
    <script type="text/javascript" src="https://cdn-assets.cloud.dwavesys.com/qubist_static/js/libs/angular/angular-sanitize.min.js"> </script>
    <script type="text/javascript" src="https://cdn-assets.cloud.dwavesys.com/qubist_static/js/libs/angular/angular-cookies.min.js"> </script>
    <script type="text/javascript" src="https://cdn-assets.cloud.dwavesys.com/qubist_static/js/libs/angular/angular-route.min.js"> </script>

    <!--Angular UI grid-->
    <link rel="stylesheet" type="text/css" href="https://cdn-assets.cloud.dwavesys.com/qubist_static/css/angular-ui/bower-ui-grid/ui-grid.min.css">
    <script src="https://cdn-assets.cloud.dwavesys.com/qubist_static/js/libs/angular-ui/bower-ui-grid/ui-grid.min.js"></script>

    <!-- jQuery Cookie -->
    <script type="text/javascript" src="https://cdn-assets.cloud.dwavesys.com/qubist_static/js/libs/jquery-cookie/jquery-cookie.js"> </script>

    <!-- minified momentjs / timezonejs -->
    <script type="text/javascript" src="https://cdn-assets.cloud.dwavesys.com/qubist_static/js/libs/momentjs/moment-with-locales.min.js"> </script>
    <script type="text/javascript" src="https://cdn-assets.cloud.dwavesys.com/qubist_static/js/libs/momentjs/moment-timezone-with-data.js"> </script>
    <script type="text/javascript" src="https://cdn-assets.cloud.dwavesys.com/qubist_static/js/libs/momentjs/moment-timezone-utils.js"> </script>

    <!-- Plotly -->
    <script src="https://cdn-assets.cloud.dwavesys.com/qubist_static/js/libs/plotly/plotly-latest.min.js"></script>

    <!--Fine Uploader-->
    <link href="https://cdn-assets.cloud.dwavesys.com/qubist_static/css/file-uploader/v5-13-0/fine-uploader-gallery.min.css" rel="stylesheet">
    <script src="https://cdn-assets.cloud.dwavesys.com/qubist_static/js/libs/file-uploader/v5-13-0/fine-uploader.min.js"></script>
    <!-- Cookies.js, so we can get the CSRFToken cookie -->
    <script src="https://cdn-assets.cloud.dwavesys.com/qubist_static/js/libs/js-cookie/v2-1-3/js.cookie.min.js" charset="utf-8"></script>

    <!--Angular UI Tree-->
    <link rel="stylesheet" href="https://cdn-assets.cloud.dwavesys.com/qubist_static/js/libs/angular-ui-tree/dist/angular-ui-tree.min.css">
    <script type="text/javascript" src="https://cdn-assets.cloud.dwavesys.com/qubist_static/js/libs/angular-ui-tree/dist/angular-ui-tree.min.js"></script>

    <!--Tree Grid Directive-->
    <link rel="stylesheet" href="https://cdn-assets.cloud.dwavesys.com/qubist_static/js/libs/tree-grid-directive/treeGrid.css">
    <script type="text/javascript" src="https://cdn-assets.cloud.dwavesys.com/qubist_static/js/libs/tree-grid-directive/tree-grid-directive.js"></script>

    <!-- ngInfiniteScroll -->
    <script type="module" src="https://cdn-assets.cloud.dwavesys.com/qubist_static/js/libs/ngInfiniteScroll/infinite-scroll.js"></script>

    

    <!-- Qubist -->
    <script type="text/javascript" src="https://cdn-assets.cloud.dwavesys.com/qubist_static/js/qubist.js"> </script>

    
    <link href='https://cdn-assets.cloud.dwavesys.com/qubist_static/css/google-fonts/googlefonts.css?family=Roboto:100,300,100italic,300italic' rel='stylesheet' type='text/css'>

    <script type="text/javascript" src="https://cdn-assets.cloud.dwavesys.com/qubist_static/js/raphael-min.js"></script>


    <!-- menu styles -->
    <link rel="stylesheet" type="text/css" href="https://cdn-assets.cloud.dwavesys.com/qubist_static/css/cupertino/jquery-ui-1.8.22.custom.css">

    <!-- required for the menu -->
    <script type="text/javascript" src="https://cdn-assets.cloud.dwavesys.com/qubist_static/js/hoverIntent.js"></script>

    <!-- custom styles -->
    <meta name="viewport" content="width=device-width, initial-scale=1, maximum-scale=1">
    <link rel="stylesheet" href="https://cdn-assets.cloud.dwavesys.com/qubist_static/css/styles.css" type="text/css" media="screen, projection">
    <link rel="stylesheet" href="https://cdn-assets.cloud.dwavesys.com/qubist_static/font/font-mfizz.css" type="text/css" media="screen, projection">


    <script type="text/javascript">

        /* IE8 doesn't support trim() */
        if(typeof String.prototype.trim !== 'function') {
            String.prototype.trim = function() {
                return this.replace(/^\s+|\s+$/g, '');
            }
        }
        //fix jQuery ui dialog buttons' labels
        $.attrFn.text = true;
        $(function() {
            $("button, input:submit, input:button").button();
        });
    </script>

    

    <script type="text/javascript">
        $(document).ready(function () {
            $('a, h1, h2, h3, h4, h5, p, lebel').tooltip({
                delay: 0,
                placement: 'bottom'
            });
            $('span').popover({
                delay: 0,
                placement: 'auto top',
                trigger: 'click hover',
                html: true
            });

            $(document).ajaxSend(function(event, request, settings) {
                if ($("#progressBar").length === 0) {
                    $("body").append($("<div><dt/><dd/></div>").attr("id", "progressBar"));
                    $("#progressBar").width((50 + Math.random() * 30) + "%");
                }
            });
            $(document).ajaxComplete(function(event, request, settings) {
                $("#progressBar").width("101%").delay(200).fadeOut(400, function() {
                    $(this).remove();
                });
            });

            $(window).on('load resize', function() {
                if(window.location.href.indexOf('/admin/') != -1) {
                    var navBarHeight = $('#mainAppNavBarId').height();
                    if(navBarHeight <= 120 && navBarHeight >= 100) {
                        $('body').css('padding-top', '100px');
                    }
                    if(navBarHeight <= 170 && navBarHeight >= 150) {
                        $('body').css('padding-top', '150px');
                    }
                    if(navBarHeight <= 220 && navBarHeight >= 190) {
                        $('body').css('padding-top', '200px');
                    }
                    else if(navBarHeight <= 60) {
                        $('body').css('padding-top', '50px');
                    }
                }
             });


        });

    </script>

    
            <script type="text/javascript" src="https://cdn-assets.cloud.dwavesys.com/qubist_static/js/angularmainapp/modules/pml.js"> </script>
            <script type="text/javascript" src="https://cdn-assets.cloud.dwavesys.com/qubist_static/js/angularmainapp/controller/app.js"> </script>
    

    <!--Load external scripts specified as a part of the custom_region-->
    
    
    

</head>

<body id="qubistApplicationId" class=" hp-body " ng-controller='mainAppCtrl'>
<div id="notify-container"></div>
<window-resized></window-resized>
<!--:. Alerts-->
<alert ng-cloak ng-repeat="alert in alerts" class="flash-notify" type="{~{alert.type}~}" close="closeAlert($index)">
    <span ng-bind-html="alert.msg"></span>
</alert>
<alert ng-cloak ng-repeat="alert in alertsWithoutClose" class="flash-notify" type="{~{alert.type}~}">
    <span ng-bind-html="alert.msg"></span>
</alert>





    <div class="container">
        
            <div class="hp-container">
                <div class="row">
                    <!-- Logo -->
                    <div class="col-md-12 text-center hp-brand-col" aria-label="D-Wave Systems Logo" title="D-Wave Systems Logo">
                        <a href="http://www.dwavesys.com"><img src="https://cdn-assets.cloud.dwavesys.com/qubist_static/images/dwave-logo.svg" class="img-rounded logo-nav mini-navbar" alt="D-Wave Systems"/></a>
                    </div>
                </div>
                <div class="row">
                    
                    <!-- API & DOCS -->
                    <div class="col-md-6">
                        <b><h1 class="hp-title">API & Docs</h1></b>
                        <h1 class="hp-subtitle">D-Wave™ Quantum Computer</h1>
                        <p>Developers can now build applications using the power of Quantum computing. D-Wave™ Quantum Computer is the world's first commercial system to use Quantum computations to solve difficult mathematical problems.
                        <br> Get to know the D-Wave™ Quantum Computer system by visiting the Developers, FAQ, and Documentation pages. Once you request an account and sign into the system, you can use Web Services to start building your application.</p>
                    </div>
                    
                    <div class="col-md-6">
                        
                        <div class="row">
                            <!-- Solver API -->
                            <div class="col-md-12 hp-col-item" onclick="location.href='/qubist/apis/';" title="Solver API"
                                 role="navigation" aria-label="Primary">
                                <div class="media">
                                    <a class="media-left media-middle" title="Solver API" href="/qubist/apis/">
                                        <span class="accessibility-display-none">Solver API</span>
                                    </a>
                                    <div>
                                        <h4 class="media-heading">Solver API</h4>
                                        <span>The Solver APIs serve as the front-end for the D-Wave™ Quantum Computer hardware and software solvers.</span>
                                    </div>
                                </div>
                            </div>
                        </div>
                        
                        <!-- Sampling Service -->
                        
                        
                        <div class="row">
                            <!-- Documentation -->
                            <div class="col-md-12 hp-col-item" onclick="location.href='/qubist/doc/';" title="Documentation"
                                 role="navigation" aria-label="Secondary">
                                <div class="media">
                                    <a class="media-left media-middle" title="Documentation" href="/qubist/doc/">
                                        <span class="accessibility-display-none">Documentation</span>
                                    </a>
                                    <div>
                                        <h4 class="media-heading">Documentation</h4>
                                        <span>The documentation introduces the D-Wave system and explains how it works, provides guidelines on formulating a problem for the system to solve, and describes how to connect to the system and submit problems through the Solver API client libraries.</span>
                                    </div>
                                </div>
                            </div>
                        </div>
                        
                        <!-- Learning platform -->
                        
                    </div>
                </div>
                <!-- System Status and Processor Serial Number -->
                

        
    </div>


  <div class="container">
    <div class="row footer">
      <div class="col-md-12">
          
              <a href="#" class="hp-footer-link" data-toggle="modal" data-target="#dmcaLegalitiesModal">Digital Millennium Copyright Act (DMCA) Notice</a>
              </br></br>
              <p>Qubist 3.1.0 - Timezone: America/Vancouver</p>
              <p>Copyright &copy; D-Wave Systems Inc.</p>
          
          
              <a href="http://www.dwavesys.com">
                  <span class="accessibility-display-none">D-Wave Corporate Website</span>
              </a>
          
      </div>
    </div>
  </div>

        <!-- Help - Tips -->
<div class="modal" id="dmcaLegalitiesModal" tabindex="-1" role="dialog" aria-labelledby="dmcaLegalitiesModalLabel" aria-hidden="true" data-backdrop="">
<div class="modal-dialog modal-lg">
    <div class="modal-content">
        <div class="modal-header">
            <button type="button" class="close" data-dismiss="modal"><span aria-hidden="true">&times;</span><span class="sr-only">Close</span></button>
            <h4 class="modal-title" id="dmcaLegalitiesModalLabel">DMCA</h4>
        </div>
        <div class="modal-body">
            <div class="row">
                <div>
                    <div class="panel-group" id="registrationFormAccordionId">
                        <div class="panel panel-default">
                            <div id="registrationFormAccordionHeading">
                                <div class="panel-body">
                                    <div class="row">
                                        <div class="col-md-12">
                                            <h3>
                                                Digital Millennium Copyright Act (DMCA) Notice
                                            </h3>
                                            <p><b>
                                                If you believe that material available on our websites infringes your copyright, you may notify us by providing a DMCA notice to the agent listed below.
                                            </b></p>
                                            </br>
                                            <p class="dmcaLegalities-notice-body">
                                                Please contact: Legal Department</br>
                                                Mailing Address: D-Wave Systems Inc.</br>
                                                3033 Beta Avenue</br>
                                                Burnaby, BC</br>
                                                Canada V5G 4M9</br>
                                                Email: <a href="mailto:copyright@dwavesys.com">copyright@dwavesys.com</a></br>
                                                Phone: 604-630-1428</br></br></br>
                                            </p>
                                        </div>
                                    </div>
                                </div>
                            </div>
                        </div>
                    </div>
                </div>
            </div>
        </div>
    </div>
</div>
</div>


</body>
</html>
